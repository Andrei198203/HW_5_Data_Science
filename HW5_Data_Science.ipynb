{
  "nbformat": 4,
  "nbformat_minor": 0,
  "metadata": {
    "colab": {
      "provenance": [],
      "authorship_tag": "ABX9TyMcjGMX+Zh9R8QtU6LlsrAC",
      "include_colab_link": true
    },
    "kernelspec": {
      "name": "python3",
      "display_name": "Python 3"
    },
    "language_info": {
      "name": "python"
    }
  },
  "cells": [
    {
      "cell_type": "markdown",
      "metadata": {
        "id": "view-in-github",
        "colab_type": "text"
      },
      "source": [
        "<a href=\"https://colab.research.google.com/github/Andrei198203/HW_5_Data_Science/blob/main/HW5_Data_Science.ipynb\" target=\"_parent\"><img src=\"https://colab.research.google.com/assets/colab-badge.svg\" alt=\"Open In Colab\"/></a>"
      ]
    },
    {
      "cell_type": "code",
      "source": [
        "from google.colab import drive\n",
        "drive.mount('/content/drive')"
      ],
      "metadata": {
        "colab": {
          "base_uri": "https://localhost:8080/"
        },
        "id": "bZXBnF2ggKp5",
        "outputId": "f2570f98-3ae1-463e-e71a-cef0a4fbc249"
      },
      "execution_count": 9,
      "outputs": [
        {
          "output_type": "stream",
          "name": "stdout",
          "text": [
            "Drive already mounted at /content/drive; to attempt to forcibly remount, call drive.mount(\"/content/drive\", force_remount=True).\n"
          ]
        }
      ]
    },
    {
      "cell_type": "code",
      "source": [
        "# Import the required libraries\n",
        "from google.colab import drive\n",
        "import pandas as pd\n",
        "from sklearn.model_selection import train_test_split\n",
        "from sklearn.preprocessing import StandardScaler\n",
        "from sklearn.svm import SVC\n",
        "from sklearn.ensemble import RandomForestClassifier\n",
        "from sklearn.metrics import classification_report\n",
        "\n",
        "import os"
      ],
      "metadata": {
        "id": "b1j9qoqXh30C"
      },
      "execution_count": 10,
      "outputs": []
    },
    {
      "cell_type": "code",
      "source": [
        "# Функція для завантаження даних з Google Drive\n",
        "def load_data(file_paths):\n",
        "    dfs = []\n",
        "    for file_path in file_paths:\n",
        "        df = pd.read_csv(file_path)\n",
        "        dfs.append(df)\n",
        "    return pd.concat(dfs, ignore_index=True)"
      ],
      "metadata": {
        "id": "L8zKIpYZtZkb"
      },
      "execution_count": 11,
      "outputs": []
    },
    {
      "cell_type": "markdown",
      "source": [],
      "metadata": {
        "id": "1GvsErD5ooBk"
      }
    },
    {
      "cell_type": "code",
      "source": [
        "# Шляхи до папок\n",
        "walking_folder = \"/content/drive/MyDrive/HW5_Data_Science/walking\"\n",
        "stairs_folder = \"/content/drive/MyDrive/HW5_Data_Science/stairs\"\n",
        "running_folder = \"/content/drive/MyDrive/HW5_Data_Science/running\"\n",
        "idle_folder = \"/content/drive/MyDrive/HW5_Data_Science/idle\""
      ],
      "metadata": {
        "id": "WuXpztWIa9JJ"
      },
      "execution_count": 22,
      "outputs": []
    },
    {
      "cell_type": "code",
      "source": [
        "# Отримання списків файлів у кожній папці\n",
        "walking_files = [os.path.join(walking_folder, file) for file in os.listdir(walking_folder) if file.endswith('.csv')]\n",
        "stairs_files = [os.path.join(stairs_folder, file) for file in os.listdir(stairs_folder) if file.endswith('.csv')]\n",
        "running_files = [os.path.join(running_folder, file) for file in os.listdir(running_folder) if file.endswith('.csv')]\n",
        "idle_files = [os.path.join(idle_folder, file) for file in os.listdir(idle_folder) if file.endswith('.csv')]\n"
      ],
      "metadata": {
        "id": "In_5gFmuzHQS"
      },
      "execution_count": 23,
      "outputs": []
    },
    {
      "cell_type": "code",
      "source": [
        "walking_data = load_data(walking_files)\n",
        "stairs_data = load_data(stairs_files)\n",
        "running_data = load_data(running_files)\n",
        "idle_data = load_data(idle_files)"
      ],
      "metadata": {
        "id": "L8TYem9BzRcu"
      },
      "execution_count": 24,
      "outputs": []
    },
    {
      "cell_type": "code",
      "source": [
        "walking_data['activity'] = 'walking'\n",
        "stairs_data['activity'] = 'stairs'\n",
        "running_data['activity'] = 'running'\n",
        "idle_data['activity'] = 'idle'"
      ],
      "metadata": {
        "id": "xKzcCo6I0uGW"
      },
      "execution_count": 34,
      "outputs": []
    },
    {
      "cell_type": "code",
      "source": [
        "# Розрахунок часових ознак (time domain features) - такі як середнє, середнє квадратичне відхилення тощо.\n",
        "def calculate_time_domain_features(df):\n",
        "    features = {}\n",
        "    features['mean'] = df.mean()\n",
        "    features['std'] = df.std()\n",
        "    features['min'] = df.min()\n",
        "    features['max'] = df.max()\n",
        "    return pd.DataFrame(features)"
      ],
      "metadata": {
        "id": "cTczHFHm0EIV"
      },
      "execution_count": 35,
      "outputs": []
    },
    {
      "cell_type": "code",
      "source": [
        "# Підготовка даних для навчання моделі\n",
        "def prepare_data(activity_data):\n",
        "    X = activity_data[['accelerometer_X', 'accelerometer_Y', 'accelerometer_Z']]\n",
        "    y = activity_data['activity']\n",
        "    return X, y"
      ],
      "metadata": {
        "id": "hxBg6dlhbFJf"
      },
      "execution_count": 36,
      "outputs": []
    },
    {
      "cell_type": "code",
      "source": [
        "# Розділення даних на навчальний та тестовий набори\n",
        "def split_data(X, y):\n",
        "    X_train, X_test, y_train, y_test = train_test_split(X, y, test_size=0.2, random_state=42)\n",
        "    return X_train, X_test, y_train, y_test"
      ],
      "metadata": {
        "id": "ZFUUL8xjr9o7"
      },
      "execution_count": 37,
      "outputs": []
    },
    {
      "cell_type": "code",
      "source": [
        "# Функція для навчання та оцінки моделі\n",
        "def train_and_evaluate_model(X_train, X_test, y_train, y_test, model):\n",
        "    scaler = StandardScaler()\n",
        "    X_train_scaled = scaler.fit_transform(X_train)\n",
        "    X_test_scaled = scaler.transform(X_test)\n",
        "    model.fit(X_train_scaled, y_train)\n",
        "    y_pred = model.predict(X_test_scaled)\n",
        "    print(classification_report(y_test, y_pred))"
      ],
      "metadata": {
        "id": "-PcNHnruWZL-"
      },
      "execution_count": 38,
      "outputs": []
    },
    {
      "cell_type": "code",
      "source": [
        "# Training and evaluation of models"
      ],
      "metadata": {
        "id": "r9U7Z74QWahG"
      },
      "execution_count": null,
      "outputs": []
    },
    {
      "cell_type": "code",
      "source": [
        "# Walking\n",
        "X_walking, y_walking = prepare_data(walking_data)\n",
        "X_train_walking, X_test_walking, y_train_walking, y_test_walking = split_data(X_walking, y_walking)"
      ],
      "metadata": {
        "id": "WnE6_6N1Wdun"
      },
      "execution_count": 39,
      "outputs": []
    },
    {
      "cell_type": "code",
      "source": [
        "# Stairs\n",
        "X_stairs, y_stairs = prepare_data(stairs_data)\n",
        "X_train_stairs, X_test_stairs, y_train_stairs, y_test_stairs = split_data(X_stairs, y_stairs)"
      ],
      "metadata": {
        "id": "WbQ-i37UWhl1"
      },
      "execution_count": 40,
      "outputs": []
    },
    {
      "cell_type": "code",
      "source": [
        "# Running\n",
        "X_running, y_running = prepare_data(running_data)\n",
        "X_train_running, X_test_running, y_train_running, y_test_running = split_data(X_running, y_running)"
      ],
      "metadata": {
        "id": "ZWxvML0Hvju7"
      },
      "execution_count": 41,
      "outputs": []
    },
    {
      "cell_type": "code",
      "source": [
        "# Idle\n",
        "X_idle, y_idle = prepare_data(idle_data)\n",
        "X_train_idle, X_test_idle, y_train_idle, y_test_idle = split_data(X_idle, y_idle)"
      ],
      "metadata": {
        "id": "oPPLNOOkvwTO"
      },
      "execution_count": 42,
      "outputs": []
    },
    {
      "cell_type": "markdown",
      "source": [
        "# Training and evaluation of models"
      ],
      "metadata": {
        "id": "3d-QZkRcXSuf"
      }
    },
    {
      "cell_type": "code",
      "source": [
        "# Random Forest\n",
        "rf_model = RandomForestClassifier()\n",
        "print(\"\\nRandom Forest - Walking:\")\n",
        "train_and_evaluate_model(X_train_walking, X_test_walking, y_train_walking, y_test_walking, rf_model)\n",
        "print(\"\\nRandom Forest - Stairs:\")\n",
        "train_and_evaluate_model(X_train_stairs, X_test_stairs, y_train_stairs, y_test_stairs, rf_model)\n",
        "print(\"\\nRandom Forest - Running:\")\n",
        "train_and_evaluate_model(X_train_running, X_test_running, y_train_running, y_test_running, rf_model)\n",
        "print(\"\\nRandom Forest - Idle:\")\n",
        "train_and_evaluate_model(X_train_idle, X_test_idle, y_train_idle, y_test_idle, rf_model)"
      ],
      "metadata": {
        "id": "Rjx4esiIXgnl",
        "colab": {
          "base_uri": "https://localhost:8080/"
        },
        "outputId": "609330b0-2492-4e1f-ffb2-64a5f1c7bd81"
      },
      "execution_count": 51,
      "outputs": [
        {
          "output_type": "stream",
          "name": "stdout",
          "text": [
            "\n",
            "Random Forest - Walking:\n",
            "              precision    recall  f1-score   support\n",
            "\n",
            "     walking       1.00      1.00      1.00     11100\n",
            "\n",
            "    accuracy                           1.00     11100\n",
            "   macro avg       1.00      1.00      1.00     11100\n",
            "weighted avg       1.00      1.00      1.00     11100\n",
            "\n",
            "\n",
            "Random Forest - Stairs:\n",
            "              precision    recall  f1-score   support\n",
            "\n",
            "      stairs       1.00      1.00      1.00       990\n",
            "\n",
            "    accuracy                           1.00       990\n",
            "   macro avg       1.00      1.00      1.00       990\n",
            "weighted avg       1.00      1.00      1.00       990\n",
            "\n",
            "\n",
            "Random Forest - Running:\n",
            "              precision    recall  f1-score   support\n",
            "\n",
            "     running       1.00      1.00      1.00     20466\n",
            "\n",
            "    accuracy                           1.00     20466\n",
            "   macro avg       1.00      1.00      1.00     20466\n",
            "weighted avg       1.00      1.00      1.00     20466\n",
            "\n",
            "\n",
            "Random Forest - Idle:\n",
            "              precision    recall  f1-score   support\n",
            "\n",
            "        idle       1.00      1.00      1.00      6234\n",
            "\n",
            "    accuracy                           1.00      6234\n",
            "   macro avg       1.00      1.00      1.00      6234\n",
            "weighted avg       1.00      1.00      1.00      6234\n",
            "\n"
          ]
        }
      ]
    },
    {
      "cell_type": "code",
      "source": [],
      "metadata": {
        "id": "ClcfX_KPXlT_"
      },
      "execution_count": null,
      "outputs": []
    }
  ]
}